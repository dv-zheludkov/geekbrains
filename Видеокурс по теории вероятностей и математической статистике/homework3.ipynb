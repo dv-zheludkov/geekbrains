{
 "cells": [
  {
   "cell_type": "code",
   "execution_count": 1,
   "id": "d8eb3bdb-cd7f-4b95-8b9a-f1f404a82e85",
   "metadata": {},
   "outputs": [],
   "source": [
    "import numpy as np\n",
    "import matplotlib.pyplot as plt\n",
    "%matplotlib inline\n"
   ]
  },
  {
   "cell_type": "markdown",
   "id": "f4d5326d-0046-4c53-9793-c3f1b731c4c7",
   "metadata": {},
   "source": [
    "Текст домашнего задания отсутствует. В случае его появления, в этом файле будет добавлено решение задач.\n"
   ]
  },
  {
   "cell_type": "code",
   "execution_count": null,
   "id": "f340f1bc-369c-4953-aef9-245e24f8cd18",
   "metadata": {},
   "outputs": [],
   "source": []
  }
 ],
 "metadata": {
  "kernelspec": {
   "display_name": "Python 3",
   "language": "python",
   "name": "python3"
  },
  "language_info": {
   "codemirror_mode": {
    "name": "ipython",
    "version": 3
   },
   "file_extension": ".py",
   "mimetype": "text/x-python",
   "name": "python",
   "nbconvert_exporter": "python",
   "pygments_lexer": "ipython3",
   "version": "3.9.4"
  }
 },
 "nbformat": 4,
 "nbformat_minor": 5
}
