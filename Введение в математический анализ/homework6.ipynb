{
 "cells": [
  {
   "cell_type": "markdown",
   "id": "894a9c6b-25e4-4f62-b297-6931741da870",
   "metadata": {},
   "source": [
    "### 1. Найти длину 𝑥 и ширину 𝑦 прямоугольника при заданном периметре 𝑃=144 cм, при которых данный прямоугольник имеет наибольшую площадь 𝑆"
   ]
  },
  {
   "cell_type": "markdown",
   "id": "f12b79d3-07b4-44c5-841a-4ba0a16e21b9",
   "metadata": {},
   "source": [
    "$P = 2(x + y)$\n",
    "\n",
    "$S = x \\cdot y$\n",
    "\n",
    "$P = 2(x + y)=144 \\Rightarrow P = x + y=72 \\Rightarrow y = 72-x$\n",
    "\n",
    "$S = x \\cdot y \\Rightarrow S=x \\cdot (72-x) = 72x-x^2$\n",
    "\n",
    "$S' =72-2x$\n",
    "\n",
    "$x = 36$\n",
    "\n",
    "$y = 72 - 36 = 36$\n",
    "\n",
    "Максимальную площадь будет иметь прямоугольник с равными сторонами - квадрат."
   ]
  },
  {
   "cell_type": "code",
   "execution_count": null,
   "id": "b11eecc8-599d-4ea2-bbf9-47db87f012a9",
   "metadata": {},
   "outputs": [],
   "source": []
  },
  {
   "cell_type": "markdown",
   "id": "f61eb374-d913-4677-8f80-5bf09a87786a",
   "metadata": {},
   "source": [
    "### 2.  Найти экстремумы функций (если они есть)"
   ]
  },
  {
   "cell_type": "code",
   "execution_count": 2,
   "id": "2c3628f8-985a-4c01-a48d-b6a3ef5211fd",
   "metadata": {},
   "outputs": [],
   "source": [
    "import numpy as np\n",
    "import matplotlib.pyplot as plt\n",
    "%matplotlib inline\n"
   ]
  },
  {
   "cell_type": "markdown",
   "id": "71e11aad-f87c-4120-8926-ec1f39cdaa12",
   "metadata": {},
   "source": [
    "#### 1) $y=|2x|$"
   ]
  },
  {
   "cell_type": "markdown",
   "id": "2d11bbfa-0782-4134-bdc3-148df0c3166d",
   "metadata": {},
   "source": [
    "$y=|2x|$\n",
    "\n",
    "$y'=2\\cdot \\frac x{|x|}=0$\n",
    "\n",
    "$x=0$ есть минимум"
   ]
  },
  {
   "cell_type": "code",
   "execution_count": 12,
   "id": "d18ad3cf-b00b-4f05-9526-1e7983175baa",
   "metadata": {},
   "outputs": [
    {
     "data": {
      "text/plain": [
       "[<matplotlib.lines.Line2D at 0x7fee579185e0>]"
      ]
     },
     "execution_count": 12,
     "metadata": {},
     "output_type": "execute_result"
    },
    {
     "data": {
      "image/png": "[encoded data removed]",
      "text/plain": [
       "<Figure size 432x288 with 1 Axes>"
      ]
     },
     "metadata": {
      "needs_background": "light"
     },
     "output_type": "display_data"
    }
   ],
   "source": [
    "def f(x):\n",
    "    return abs(2 * x)\n",
    "    \n",
    "x = np.linspace(-10, 10, 200)\n",
    "y = np.array(list(map(f, x)))\n",
    "\n",
    "plt.plot(x, y)"
   ]
  },
  {
   "cell_type": "markdown",
   "id": "930e277b-ca2a-4b9f-ac66-c180e98c2aa9",
   "metadata": {},
   "source": [
    "#### 2) $y=x^3$"
   ]
  },
  {
   "cell_type": "markdown",
   "id": "27b7ef94-8638-4ecc-843c-69258e250ab8",
   "metadata": {},
   "source": [
    "$y=x^3$\n",
    "\n",
    "$y'=3x^2 = 0$\n",
    "\n",
    "Экстремумы отсутствуют"
   ]
  },
  {
   "cell_type": "code",
   "execution_count": 13,
   "id": "3e5fe1d8-9637-4f7c-ac4a-45dbbbbdaeaf",
   "metadata": {},
   "outputs": [
    {
     "data": {
      "text/plain": [
       "[<matplotlib.lines.Line2D at 0x7fee579b7eb0>]"
      ]
     },
     "execution_count": 13,
     "metadata": {},
     "output_type": "execute_result"
    },
    {
     "data": {
      "image/png": "[encoded data removed]",
      "text/plain": [
       "<Figure size 432x288 with 1 Axes>"
      ]
     },
     "metadata": {
      "needs_background": "light"
     },
     "output_type": "display_data"
    }
   ],
   "source": [
    "def f(x):\n",
    "    return x ** 3\n",
    "    \n",
    "x = np.linspace(-5, 5, 200)\n",
    "y = np.array(list(map(f, x)))\n",
    "\n",
    "plt.plot(x, y)"
   ]
  },
  {
   "cell_type": "markdown",
   "id": "b36c83ab-be00-4ea3-84f6-2f137ced8a9d",
   "metadata": {},
   "source": [
    "#### 3) $y=e^{3x}$"
   ]
  },
  {
   "cell_type": "markdown",
   "id": "c460dd6e-cdd4-4926-8df3-916775dc60fa",
   "metadata": {},
   "source": [
    "$y=e^{3x}$\n",
    "\n",
    "$y'= 3e^{3x  - 1} = 0$\n",
    "\n",
    "Экстремумы отсутствуют"
   ]
  },
  {
   "cell_type": "code",
   "execution_count": 10,
   "id": "a1bd5b2d-500b-483f-a363-63a0dca01f45",
   "metadata": {},
   "outputs": [
    {
     "name": "stderr",
     "output_type": "stream",
     "text": [
      "<ipython-input-10-faa951997921>:2: RuntimeWarning: overflow encountered in double_scalars\n",
      "  return (np.finfo(float).eps ** (3 * x))\n"
     ]
    },
    {
     "data": {
      "text/plain": [
       "[<matplotlib.lines.Line2D at 0x7fee576c9f10>]"
      ]
     },
     "execution_count": 10,
     "metadata": {},
     "output_type": "execute_result"
    },
    {
     "data": {
      "image/png": "[encoded data removed]",
      "text/plain": [
       "<Figure size 432x288 with 1 Axes>"
      ]
     },
     "metadata": {
      "needs_background": "light"
     },
     "output_type": "display_data"
    }
   ],
   "source": [
    "def f(x):\n",
    "    return (np.finfo(float).eps ** (3 * x))\n",
    "    \n",
    "x = np.linspace(-10, 10, 200)\n",
    "y = np.array(list(map(f, x)))\n",
    "\n",
    "plt.plot(x, y)"
   ]
  },
  {
   "cell_type": "markdown",
   "id": "36ca2254-5158-4f54-bd26-622443501dd2",
   "metadata": {},
   "source": [
    "#### 4) y=xˆ3-5x"
   ]
  },
  {
   "cell_type": "markdown",
   "id": "7d310df2-f24d-4d53-87a9-81b71e80a658",
   "metadata": {},
   "source": [
    "$y=x^3-5x$\n",
    "\n",
    "$y'=3x^2-5=0$\n",
    "\n",
    "$x=\\pm \\sqrt{\\frac 5{3}}$\n",
    "\n",
    "$f'(-2)=7$\n",
    "\n",
    "$f'(-1)=-2$\n",
    "\n",
    "$f'(1)=-2$\n",
    "\n",
    "$f'(2)=7$\n",
    "\n",
    "2 экстремума:   \n",
    "\n",
    "$x=\\pm \\sqrt{\\frac 5{3}}$"
   ]
  },
  {
   "cell_type": "code",
   "execution_count": 11,
   "id": "a43d9505-f096-43be-90fc-479668656772",
   "metadata": {},
   "outputs": [
    {
     "data": {
      "text/plain": [
       "[<matplotlib.lines.Line2D at 0x7fee57821850>]"
      ]
     },
     "execution_count": 11,
     "metadata": {},
     "output_type": "execute_result"
    },
    {
     "data": {
      "image/png": "[encoded data removed]",
      "text/plain": [
       "<Figure size 432x288 with 1 Axes>"
      ]
     },
     "metadata": {
      "needs_background": "light"
     },
     "output_type": "display_data"
    }
   ],
   "source": [
    "def f(x):\n",
    "    return x ** 3 - (5 * x)\n",
    "    \n",
    "x = np.linspace(-5, 5, 200)\n",
    "y = np.array(list(map(f, x)))\n",
    "\n",
    "plt.plot(x, y)"
   ]
  },
  {
   "cell_type": "code",
   "execution_count": null,
   "id": "a18984f4-90b1-498f-8df3-64a93fa5cfb0",
   "metadata": {},
   "outputs": [],
   "source": []
  },
  {
   "cell_type": "code",
   "execution_count": null,
   "id": "9ac569d6-1829-43b8-9efa-19ba31a02024",
   "metadata": {},
   "outputs": [],
   "source": []
  }
 ],
 "metadata": {
  "kernelspec": {
   "display_name": "Python 3",
   "language": "python",
   "name": "python3"
  },
  "language_info": {
   "codemirror_mode": {
    "name": "ipython",
    "version": 3
   },
   "file_extension": ".py",
   "mimetype": "text/x-python",
   "name": "python",
   "nbconvert_exporter": "python",
   "pygments_lexer": "ipython3",
   "version": "3.9.4"
  }
 },
 "nbformat": 4,
 "nbformat_minor": 5
}
